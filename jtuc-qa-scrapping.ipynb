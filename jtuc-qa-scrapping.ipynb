{
 "cells": [
  {
   "cell_type": "markdown",
   "metadata": {},
   "source": [
    "### 1.リンクを作成\n",
    "\n",
    "- まず、https://www.jtuc-rengo.or.jp/soudan/qa/ を基盤のリンクとします。このページを開くと、クリック可能な44個の質問があります。\n",
    "- 44個のリンクから、それぞれのページを一つ一つ開きたい為、 \n",
    "'https://www.jtuc-rengo.or.jp/soudan/qa/data/QA_01.html' -> 'https://www.jtuc-rengo.or.jp/soudan/qa/data/QA_02.html', ... .https://www.jtuc-rengo.or.jp/soudan/qa/data/QA_44.html を文字列として生成していきます。"
   ]
  },
  {
   "cell_type": "code",
   "execution_count": 2,
   "metadata": {},
   "outputs": [
    {
     "name": "stdout",
     "output_type": "stream",
     "text": [
      "['https://www.jtuc-rengo.or.jp/soudan/qa/data/QA_01.html', 'https://www.jtuc-rengo.or.jp/soudan/qa/data/QA_02.html', 'https://www.jtuc-rengo.or.jp/soudan/qa/data/QA_03.html', 'https://www.jtuc-rengo.or.jp/soudan/qa/data/QA_04.html', 'https://www.jtuc-rengo.or.jp/soudan/qa/data/QA_05.html', 'https://www.jtuc-rengo.or.jp/soudan/qa/data/QA_06.html', 'https://www.jtuc-rengo.or.jp/soudan/qa/data/QA_07.html', 'https://www.jtuc-rengo.or.jp/soudan/qa/data/QA_08.html', 'https://www.jtuc-rengo.or.jp/soudan/qa/data/QA_09.html', 'https://www.jtuc-rengo.or.jp/soudan/qa/data/QA_10.html', 'https://www.jtuc-rengo.or.jp/soudan/qa/data/QA_11.html', 'https://www.jtuc-rengo.or.jp/soudan/qa/data/QA_12.html', 'https://www.jtuc-rengo.or.jp/soudan/qa/data/QA_13.html', 'https://www.jtuc-rengo.or.jp/soudan/qa/data/QA_14.html', 'https://www.jtuc-rengo.or.jp/soudan/qa/data/QA_15.html', 'https://www.jtuc-rengo.or.jp/soudan/qa/data/QA_16.html', 'https://www.jtuc-rengo.or.jp/soudan/qa/data/QA_17.html', 'https://www.jtuc-rengo.or.jp/soudan/qa/data/QA_18.html', 'https://www.jtuc-rengo.or.jp/soudan/qa/data/QA_19.html', 'https://www.jtuc-rengo.or.jp/soudan/qa/data/QA_20.html', 'https://www.jtuc-rengo.or.jp/soudan/qa/data/QA_21.html', 'https://www.jtuc-rengo.or.jp/soudan/qa/data/QA_22.html', 'https://www.jtuc-rengo.or.jp/soudan/qa/data/QA_23.html', 'https://www.jtuc-rengo.or.jp/soudan/qa/data/QA_24.html', 'https://www.jtuc-rengo.or.jp/soudan/qa/data/QA_25.html', 'https://www.jtuc-rengo.or.jp/soudan/qa/data/QA_26.html', 'https://www.jtuc-rengo.or.jp/soudan/qa/data/QA_27.html', 'https://www.jtuc-rengo.or.jp/soudan/qa/data/QA_28.html', 'https://www.jtuc-rengo.or.jp/soudan/qa/data/QA_29.html', 'https://www.jtuc-rengo.or.jp/soudan/qa/data/QA_30.html', 'https://www.jtuc-rengo.or.jp/soudan/qa/data/QA_31.html', 'https://www.jtuc-rengo.or.jp/soudan/qa/data/QA_32.html', 'https://www.jtuc-rengo.or.jp/soudan/qa/data/QA_33.html', 'https://www.jtuc-rengo.or.jp/soudan/qa/data/QA_34.html', 'https://www.jtuc-rengo.or.jp/soudan/qa/data/QA_35.html', 'https://www.jtuc-rengo.or.jp/soudan/qa/data/QA_36.html', 'https://www.jtuc-rengo.or.jp/soudan/qa/data/QA_37.html', 'https://www.jtuc-rengo.or.jp/soudan/qa/data/QA_38.html', 'https://www.jtuc-rengo.or.jp/soudan/qa/data/QA_39.html', 'https://www.jtuc-rengo.or.jp/soudan/qa/data/QA_40.html', 'https://www.jtuc-rengo.or.jp/soudan/qa/data/QA_41.html', 'https://www.jtuc-rengo.or.jp/soudan/qa/data/QA_42.html', 'https://www.jtuc-rengo.or.jp/soudan/qa/data/QA_43.html', 'https://www.jtuc-rengo.or.jp/soudan/qa/data/QA_44.html']\n"
     ]
    }
   ],
   "source": [
    "# Define a function to count the number of digits in a number\n",
    "def count_digits(number):\n",
    "    # Convert the number to a string and count the characters\n",
    "    num_str = str(number)\n",
    "    num_digits = len(num_str)\n",
    "    return num_digits\n",
    "\n",
    "# Define the number of rows\n",
    "rows = 44\n",
    "\n",
    "# Base URL for the links\n",
    "base_html_link = 'https://www.jtuc-rengo.or.jp/soudan/qa/data/'\n",
    "\n",
    "# Create an empty list to store the generated links\n",
    "lst_link = []\n",
    "\n",
    "# Loop through the range of rows\n",
    "for idx in range(rows):\n",
    "    # Check if the index plus one has a single digit or more\n",
    "    if count_digits(idx + 1) == 1:\n",
    "        # If it's a single digit, create a link with 'QA_0' followed by the index\n",
    "        new_link = base_html_link + 'QA_0' + str(idx + 1) + '.html'\n",
    "    else:\n",
    "        # If it's more than one digit, create a link with 'QA_' followed by the index\n",
    "        new_link = base_html_link + 'QA_' + str(idx + 1) + '.html'\n",
    "    \n",
    "    # Add the new link to the list\n",
    "    lst_link.append(new_link)\n",
    "\n",
    "# Print the list of generated links\n",
    "print(lst_link)"
   ]
  },
  {
   "cell_type": "markdown",
   "metadata": {},
   "source": [
    "### 2. 要素を分けて、文字データを取得\n",
    "- 次に、１ページづつ開き、\"タイトル\", \"質問\", \"回答\"の部分を注目します。 <br> この部分をBeautiful Soup に認識させる為には, htmlコードのclassを特定して、find()関数を利用できます。認識後、それぞれの文字データを取得します。\n",
    "- データ取得後、jsonファイルに読み込みます。"
   ]
  },
  {
   "cell_type": "code",
   "execution_count": 4,
   "metadata": {},
   "outputs": [
    {
     "name": "stderr",
     "output_type": "stream",
     "text": [
      "C:\\Users\\liewg\\AppData\\Local\\Temp\\ipykernel_18096\\3658744482.py:34: DeprecationWarning: The 'text' argument to find()-type methods is deprecated. Use 'string' instead.\n",
      "  q_element = div.find(\"dt\", text=\"Q\")\n",
      "C:\\Users\\liewg\\AppData\\Local\\Temp\\ipykernel_18096\\3658744482.py:38: DeprecationWarning: The 'text' argument to find()-type methods is deprecated. Use 'string' instead.\n",
      "  q_element = div.find(\"dt\", text=\"A\")\n"
     ]
    }
   ],
   "source": [
    "from bs4 import BeautifulSoup\n",
    "from urllib.request import Request, urlopen\n",
    "import re, json  \n",
    "\n",
    "specify_link = lst_link[0]\n",
    "\n",
    "req = Request(specify_link)\n",
    "html_page = urlopen(req)\n",
    "\n",
    "soup = BeautifulSoup(html_page, \"lxml\")\n",
    "\n",
    "def scrap_to_csv(lst_link,fileName_json): \n",
    "\n",
    "    # create a new csv file \n",
    "    fieldnames  = [\"タイトル\", \"質問\", \"回答\", \"法律ポイント\"] # Define the column headers\n",
    "\n",
    "    RowsToScrap = 44 # number of rows to scrap\n",
    "    data_list = []  # stores every rows\n",
    "\n",
    "    for page_index in range(RowsToScrap): \n",
    "        \n",
    "        # get whole page \n",
    "        each_link = lst_link[page_index]\n",
    "        req = Request(each_link)\n",
    "        html_page = urlopen(req)\n",
    "        soup = BeautifulSoup(html_page, \"lxml\")\n",
    "\n",
    "        # get title \n",
    "        title_element = soup.find(\"h5\", class_=\"title004\")\n",
    "        title_text = title_element.get_text(strip=True)\n",
    "        \n",
    "        # get question \n",
    "        div = soup.find(\"div\", {\"class\": \"boxActivityKizunaSentence\"})\n",
    "        q_element = div.find(\"dt\", text=\"Q\")\n",
    "        q_question_text = q_element.find_next(\"dd\").text.strip()\n",
    "        \n",
    "        # get answer\n",
    "        q_element = div.find(\"dt\", text=\"A\")\n",
    "        q_answer_text = q_element.find_next(\"dd\").text.strip()\n",
    "\n",
    "        # get law point\n",
    "        LawPointText = div.select_one(\"div.boxEmphasis012.l-mb40 dd\")\n",
    "        LawPointText = str(LawPointText)\n",
    "        start_index , end_index= LawPointText.find(\"<dd>\"), LawPointText.find(\"</dd>\")  \n",
    "        LawPointText = LawPointText[start_index+4:end_index]# remove dd tags \n",
    "\n",
    "        # Write the new row of data\n",
    "        new_row = {\"タイトル\": title_text, \"質問\": q_question_text, \"回答\": q_answer_text, \"法律ポイント\": LawPointText}\n",
    "        data_list.append(new_row)\n",
    "        \n",
    "\n",
    "    # # write data_list to json file \n",
    "    with open(fileName_json, \"w\", encoding=\"utf-8\") as json_file:\n",
    "        json.dump(data_list, json_file, indent=4, ensure_ascii=False)\n",
    "\n",
    "    \n",
    "fileName_json = 'jtuc-rengo-datasource.json'\n",
    "scrap_to_csv(lst_link,fileName_json)"
   ]
  }
 ],
 "metadata": {
  "kernelspec": {
   "display_name": "Python 3",
   "language": "python",
   "name": "python3"
  },
  "language_info": {
   "codemirror_mode": {
    "name": "ipython",
    "version": 3
   },
   "file_extension": ".py",
   "mimetype": "text/x-python",
   "name": "python",
   "nbconvert_exporter": "python",
   "pygments_lexer": "ipython3",
   "version": "3.11.5"
  },
  "orig_nbformat": 4
 },
 "nbformat": 4,
 "nbformat_minor": 2
}
